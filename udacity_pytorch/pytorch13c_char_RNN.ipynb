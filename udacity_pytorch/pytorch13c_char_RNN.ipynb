{
 "cells": [
  {
   "cell_type": "code",
   "execution_count": 3,
   "metadata": {},
   "outputs": [],
   "source": [
    "import torch\n",
    "import numpy as np\n",
    "\n",
    "from torch import nn, optim\n",
    "from sklearn.preprocessing import OneHotEncoder\n",
    "\n",
    "import matplotlib.pyplot as plt\n",
    "import seaborn as sns"
   ]
  },
  {
   "cell_type": "code",
   "execution_count": 4,
   "metadata": {},
   "outputs": [],
   "source": [
    "# Define a model:\n",
    "class Network(nn.Module):\n",
    "    def __init__(self, vocab, n_hidden, n_layers, do=0.5):\n",
    "        super().__init__()\n",
    "        \n",
    "        self.vocab = vocab\n",
    "        self.n_hidden = n_hidden \n",
    "        self.lstm = nn.LSTM(len(vocab), n_hidden, n_layers, batch_first=True, dropout=do)\n",
    "        self.fc   = nn.Linear(n_hidden, len(vocab))\n",
    "        \n",
    "    def forward(self, x, hs=None):\n",
    "        x, hs = self.lstm(x, hs)          # -> (batch_size, seq_len, n_hidden)\n",
    "        x = x.reshape(-1, self.n_hidden)  # -> (batch_size * seq_len, n_hidden)\n",
    "        out = self.fc(x)                  # -> (batch_size * seq_len, vocab_size)\n",
    "        \n",
    "        return out, hs "
   ]
  },
  {
   "cell_type": "code",
   "execution_count": 5,
   "metadata": {},
   "outputs": [],
   "source": [
    "# define a batching method:\n",
    "def get_batches(data, n_seq, seq_len):\n",
    "    \"\"\"\n",
    "    Takes data of shape (n_samples, n_features), returns batches\n",
    "    of shape (n_seq, seq_len, n_features)\n",
    "    \"\"\"\n",
    "    n_features = data.shape[1]\n",
    "    n_chars    = n_seq * seq_len\n",
    "    n_batches  = int(np.floor(len(data) / n_chars))\n",
    "    n_keep     = n_batches * n_chars\n",
    "    \n",
    "    inputs  = data[:n_keep]\n",
    "    targets = np.append(data[1:], data[0]).reshape(data.shape)\n",
    "    targets = targets[:n_keep]\n",
    "    \n",
    "    inputs = inputs.reshape(n_seq, -1, n_features)\n",
    "    targets = targets.reshape(n_seq, -1, n_features)\n",
    "    \n",
    "    for i in range(0, inputs.shape[1], seq_len):\n",
    "        x = inputs[:, i: i + seq_len]\n",
    "        y = targets[:, i: i + seq_len]\n",
    "        yield x,y\n",
    "        "
   ]
  },
  {
   "cell_type": "code",
   "execution_count": 1,
   "metadata": {},
   "outputs": [
    {
     "ename": "SyntaxError",
     "evalue": "invalid syntax (<ipython-input-1-0698df4227d2>, line 44)",
     "output_type": "error",
     "traceback": [
      "\u001b[1;36m  File \u001b[1;32m\"<ipython-input-1-0698df4227d2>\"\u001b[1;36m, line \u001b[1;32m44\u001b[0m\n\u001b[1;33m    for x, y in get_batches(valid, batch_size, seq_len)\u001b[0m\n\u001b[1;37m                                                       ^\u001b[0m\n\u001b[1;31mSyntaxError\u001b[0m\u001b[1;31m:\u001b[0m invalid syntax\n"
     ]
    }
   ],
   "source": [
    "def train(model, data, batch_size, seq_len, epochs, lr=0.01, clip=5, valid=None):\n",
    "    device = 'cuda' if torch.cuda.is_available() else 'cpu'\n",
    "    model = model.to(device)\n",
    "    \n",
    "    opt = optim.Adam(model.parameters(), lr=lr)\n",
    "    criterion = nn.CrossEntropyLoss()\n",
    "    \n",
    "    encoder = OneHotEncoder(sparse=False).fit(model.vocab.reshape(-1, 1))\n",
    "    data = encoder.transform(data)\n",
    "    if valid is not None:\n",
    "        \n",
    "        valid = encoder.transform(valid)\n",
    "        \n",
    "          \n",
    "    train_loss = []\n",
    "    valid_loss = []\n",
    "    \n",
    "    for e in range(epochs):\n",
    "\n",
    "        hs = None\n",
    "        t_loss = 0\n",
    "        v_loss = 0\n",
    "\n",
    "        for x, y in get_batches(data, batch_size, seq_len):\n",
    "            opt.zero_grad()\n",
    "            x = torch.tensor(x).float()\n",
    "            x = x.to(device)\n",
    "            \n",
    "            out, hs = model(x, hs)\n",
    "            hs = tuple([h.data for h in hs])\n",
    "\n",
    "            # target should not be one-hot encoded for CE Loss\n",
    "            y = y.reshape(-1, len(model.vocab))\n",
    "            y = encoder.inverse_transform(y)\n",
    "            y = torch.from_numpy(y).long().to(device)\n",
    "\n",
    "            loss = criterion(out, y.squeeze())\n",
    "            loss.backward()\n",
    "            nn.utils.clip_grad_norm_(model.parameters(), clip)\n",
    "            opt.step()\n",
    "            \n",
    "            t_loss += loss.item()\n",
    "            \n",
    "        if valid is not None:\n",
    "            model.eval()\n",
    "            hs = None\n",
    "            with torch.no_grad():\n",
    "                for x, y in get_batches(valid, batch_size, seq_len):\n",
    "\n",
    "                    x = torch.tensor(x).float()\n",
    "                    x = x.to(device)\n",
    "\n",
    "                    y = y.reshape(-1, len(model.vocab))\n",
    "                    y = encoder.inverse_transform(y)\n",
    "                    y = torch.from_numpy(y).long().to(device)\n",
    "\n",
    "                    out, hs = model(x, hs)\n",
    "                    hs = tuple([h.data for h in hs])\n",
    "\n",
    "                    loss = criterion(out, y)\n",
    "                    v_loss += loss.item()\n",
    "\n",
    "                valid_loss.append(np.mean(v_loss))\n",
    "                model.train()\n",
    "        \n",
    "        train_loss.append(np.mean(t_loss))\n",
    "        \n",
    "        if e % (epochs // 10) == 0:\n",
    "            print(f'Training Loss: {train_loss[-1]}')\n",
    "            \n",
    "    plt.plot(train_loss)"
   ]
  },
  {
   "cell_type": "code",
   "execution_count": 23,
   "metadata": {},
   "outputs": [],
   "source": [
    "# get and pre-process data:\n",
    "with open('data/texts/anna.txt') as data:\n",
    "    text = data.read()\n",
    "\n",
    "vocab = sorted(set(text))\n",
    "int2char = {i:ch for i, ch in enumerate(vocab)}\n",
    "char2int = {ch: i for i, ch in int2char.items()}\n",
    "\n",
    "# label encode and reshape to (n_samples, n_features)\n",
    "encoded = np.array([char2int[ch] for ch in text]).reshape(-1, 1)\n",
    "vocab = np.array([char2int[ch] for ch in vocab]).reshape(-1, 1)"
   ]
  },
  {
   "cell_type": "code",
   "execution_count": 24,
   "metadata": {},
   "outputs": [
    {
     "data": {
      "text/plain": [
       "Network(\n",
       "  (lstm): LSTM(83, 512, num_layers=2, batch_first=True, dropout=0.5)\n",
       "  (fc): Linear(in_features=512, out_features=83, bias=True)\n",
       ")"
      ]
     },
     "execution_count": 24,
     "metadata": {},
     "output_type": "execute_result"
    }
   ],
   "source": [
    "n_hidden = 512\n",
    "n_layers = 2\n",
    "\n",
    "model = Network(vocab, n_hidden, n_layers)\n",
    "model"
   ]
  },
  {
   "cell_type": "code",
   "execution_count": 25,
   "metadata": {},
   "outputs": [
    {
     "name": "stdout",
     "output_type": "stream",
     "text": [
      "Training Loss: 476.0572726726532\n",
      "Training Loss: 410.5283603668213\n",
      "Training Loss: 368.2233211994171\n",
      "Training Loss: 344.6959447860718\n",
      "Training Loss: 328.9363555908203\n",
      "Training Loss: 316.15604078769684\n",
      "Training Loss: 307.36604356765747\n",
      "Training Loss: 300.76547610759735\n",
      "Training Loss: 293.9298862218857\n",
      "Training Loss: 289.11690747737885\n"
     ]
    },
    {
     "data": {
      "image/png": "[encoded data removed]",
      "text/plain": [
       "<Figure size 432x288 with 1 Axes>"
      ]
     },
     "metadata": {
      "needs_background": "light"
     },
     "output_type": "display_data"
    }
   ],
   "source": [
    "batch_size = 128\n",
    "seq_len = 100\n",
    "epochs = 10\n",
    "lr = 0.01\n",
    "\n",
    "train(model, encoded, batch_size, seq_len, epochs, lr=lr)"
   ]
  },
  {
   "cell_type": "code",
   "execution_count": null,
   "metadata": {},
   "outputs": [],
   "source": []
  }
 ],
 "metadata": {
  "environment": {
   "name": "pytorch-gpu.1-4.m49",
   "type": "gcloud",
   "uri": "gcr.io/deeplearning-platform-release/pytorch-gpu.1-4:m49"
  },
  "kernelspec": {
   "display_name": "Python 3",
   "language": "python",
   "name": "python3"
  },
  "language_info": {
   "codemirror_mode": {
    "name": "ipython",
    "version": 3
   },
   "file_extension": ".py",
   "mimetype": "text/x-python",
   "name": "python",
   "nbconvert_exporter": "python",
   "pygments_lexer": "ipython3",
   "version": "3.8.3"
  }
 },
 "nbformat": 4,
 "nbformat_minor": 4
}
