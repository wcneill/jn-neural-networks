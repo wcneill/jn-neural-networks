{
 "cells": [
  {
   "cell_type": "code",
   "execution_count": 1,
   "metadata": {},
   "outputs": [],
   "source": [
    "import torch\n",
    "import numpy as np\n",
    "\n",
    "from torch import nn, optim\n",
    "import torch.nn.functional as F\n",
    "from sklearn.preprocessing import OneHotEncoder\n",
    "\n",
    "import matplotlib.pyplot as plt\n",
    "import seaborn as sns"
   ]
  },
  {
   "cell_type": "code",
   "execution_count": 33,
   "metadata": {},
   "outputs": [],
   "source": [
    "# Define a model:\n",
    "class Network(nn.Module):\n",
    "    def __init__(self, vocab, n_hidden, n_layers, do=0.5):\n",
    "        super().__init__()\n",
    "        \n",
    "        self.vocab    = vocab\n",
    "        self.int2char = {i: ch for i, ch in enumerate(vocab)}\n",
    "        self.char2int = {ch: i for i, ch in self.int2char.items()}\n",
    "        self.encoder  = OneHotEncoder(sparse=False).fit(vocab.reshape(-1, 1))\n",
    "        \n",
    "        self.n_hidden = n_hidden \n",
    "        self.n_layers = n_layers\n",
    "        self.lstm = nn.LSTM(len(vocab), n_hidden, n_layers, batch_first=True, dropout=do)\n",
    "        self.fc   = nn.Linear(n_hidden, len(vocab))\n",
    "        \n",
    "    def forward(self, x, hs=None):\n",
    "        x, hs = self.lstm(x, hs)          # -> (batch_size, seq_len, n_hidden)\n",
    "        x = x.reshape(-1, self.n_hidden)  # -> (batch_size * seq_len, n_hidden)\n",
    "        out = self.fc(x)                  # -> (batch_size * seq_len, vocab_size)\n",
    "        \n",
    "        return out, hs \n",
    "    \n",
    "    def predict(self, char, top_k=None, hs=None):\n",
    "        device = 'cuda' if torch.cuda.is_available() else 'cpu'\n",
    "        self.to(device)\n",
    "        self.eval()\n",
    "        \n",
    "        with torch.no_grad():\n",
    "            x = np.array([char])\n",
    "            x = x.reshape(-1, 1)\n",
    "            x = self.onehot_encode(x)\n",
    "            x = x.reshape(1, 1, -1)\n",
    "            x = torch.tensor(x, dtype=torch.float32)\n",
    "            x = x.to(device)\n",
    "\n",
    "            out, hs = self(x, hs)\n",
    "\n",
    "            ps   = F.softmax(out, dim=1).squeeze()\n",
    "            \n",
    "            if top_k is None:\n",
    "                choices = np.arange(len(self.vocab))\n",
    "            else:\n",
    "                ps, choices = ps.topk(top_k)\n",
    "                choices = choices.cpu().numpy()\n",
    "            \n",
    "            ps = ps.cpu().numpy()\n",
    "            \n",
    "            char = np.random.choice(choices, p=ps/ps.sum())\n",
    "            char = self.int2char[char]\n",
    "\n",
    "        return char, hs\n",
    "    \n",
    "    \n",
    "    def sample(self, length, top_k=None, primer='And Victoria sang '):\n",
    "        hs = None\n",
    "        for px in primer:\n",
    "            out, hs = self.predict(px, hs=hs)\n",
    "        \n",
    "        chars = [ch for ch in primer]\n",
    "        for ix in range(length):\n",
    "            char, hs = self.predict(chars[-1], top_k=top_k, hs=hs)\n",
    "            chars.append(char)\n",
    "        \n",
    "        return ''.join(chars)\n",
    "    \n",
    "    \n",
    "    def label_encode(self, data):\n",
    "        return np.array([self.char2int[ch] for ch in data])\n",
    "    \n",
    "    \n",
    "    def label_decode(self, data):\n",
    "        return np.array([self.int2char[i] for i in data])\n",
    "    \n",
    "    \n",
    "    def onehot_encode(self, data):\n",
    "        return self.encoder.transform(data)\n",
    "    \n",
    "    \n",
    "    def onehot_decode(self, data):\n",
    "        return self.encoder.inverse_transform(data)\n",
    "        \n",
    "        "
   ]
  },
  {
   "cell_type": "code",
   "execution_count": 3,
   "metadata": {},
   "outputs": [],
   "source": [
    "# define a batching method:\n",
    "def get_batches(data, n_seq, seq_len):\n",
    "    \"\"\"\n",
    "    Takes data of shape (n_samples, n_features), returns batches\n",
    "    of shape (n_seq, seq_len, n_features)\n",
    "    \"\"\"\n",
    "    n_features = data.shape[1]\n",
    "    n_chars    = n_seq * seq_len\n",
    "    n_batches  = int(np.floor(len(data) / n_chars))\n",
    "    n_keep     = n_batches * n_chars\n",
    "    \n",
    "    inputs  = data[:n_keep]\n",
    "    targets = np.append(data[1:], data[0]).reshape(data.shape)\n",
    "    targets = targets[:n_keep]\n",
    "    \n",
    "    inputs = inputs.reshape(n_seq, -1, n_features)\n",
    "    targets = targets.reshape(n_seq, -1, n_features)\n",
    "    \n",
    "    for i in range(0, inputs.shape[1], seq_len):\n",
    "        x = inputs[:, i: i + seq_len]\n",
    "        y = targets[:, i: i + seq_len]\n",
    "        yield x,y\n",
    "        "
   ]
  },
  {
   "cell_type": "code",
   "execution_count": 4,
   "metadata": {},
   "outputs": [],
   "source": [
    "def train(model, data, batch_size, seq_len, epochs, lr=0.01, clip=5, valid=None):\n",
    "    device = 'cuda' if torch.cuda.is_available() else 'cpu'\n",
    "    model = model.to(device)\n",
    "    \n",
    "    opt = optim.Adam(model.parameters(), lr=lr)\n",
    "    criterion = nn.CrossEntropyLoss()\n",
    "\n",
    "    if valid is not None:\n",
    "        data  = model.onehot_encode(data.reshape(-1, 1))\n",
    "        valid = model.onehot_encode(valid.reshape(-1, 1))\n",
    "    else:\n",
    "        data  = model.onehot_encode(data.reshape(-1, 1))\n",
    "\n",
    "    train_loss = []\n",
    "    valid_loss = []\n",
    "    \n",
    "    for e in range(epochs):\n",
    "        model.train()\n",
    "        hs = None\n",
    "        t_loss = 0\n",
    "        v_loss = 0\n",
    "\n",
    "        for x, y in get_batches(data, batch_size, seq_len):\n",
    "            opt.zero_grad()\n",
    "            x = torch.tensor(x).float()\n",
    "            x = x.to(device)\n",
    "            \n",
    "            out, hs = model(x, hs)\n",
    "            hs = tuple([h.data for h in hs])\n",
    "\n",
    "            # invert one-hot of targets for use by cross-entropy loss function\n",
    "            y = y.reshape(-1, len(model.vocab))\n",
    "            y = model.onehot_decode(y)\n",
    "            y = model.label_encode(y.squeeze())\n",
    "            y = torch.from_numpy(y).long().to(device)\n",
    "\n",
    "            loss = criterion(out, y.squeeze())\n",
    "            loss.backward()\n",
    "            nn.utils.clip_grad_norm_(model.parameters(), clip)\n",
    "            opt.step()\n",
    "            \n",
    "            t_loss += loss.item()\n",
    "            \n",
    "        if valid is not None:\n",
    "            model.eval()\n",
    "            hs = None\n",
    "            with torch.no_grad():\n",
    "                for x, y in get_batches(valid, batch_size, seq_len):\n",
    "\n",
    "                    x = torch.tensor(x).float()\n",
    "                    x = x.to(device)\n",
    "\n",
    "                    # invert one-hot of targets for use by cross-entropy loss function\n",
    "                    y = y.reshape(-1, len(model.vocab))\n",
    "                    y = model.onehot_decode(y)\n",
    "                    y = model.label_encode(y.squeeze())\n",
    "                    y = torch.from_numpy(y).long().to(device)\n",
    "\n",
    "                    out, hs = model(x, hs)\n",
    "                    hs = tuple([h.data for h in hs])\n",
    "\n",
    "                    loss = criterion(out, y.squeeze())\n",
    "                    v_loss += loss.item()\n",
    "\n",
    "                valid_loss.append(np.mean(v_loss))\n",
    "        \n",
    "        train_loss.append(np.mean(t_loss))\n",
    "        \n",
    "        if e % 2 == 0:\n",
    "            print(f'------- Epoch {e} ---------')\n",
    "            print(f'Training Loss: {train_loss[-1]}')\n",
    "            if valid_loss:\n",
    "                print(f'Valid Loss: {valid_loss[-1]}')\n",
    "            \n",
    "    plt.plot(train_loss, label=\"Training\")\n",
    "    plt.plot(valid_loss, label=\"Validation\")\n",
    "    plt.title(\"Loss vs Epochs\")\n",
    "    plt.legend()\n",
    "    plt.show()"
   ]
  },
  {
   "cell_type": "code",
   "execution_count": 6,
   "metadata": {},
   "outputs": [
    {
     "data": {
      "text/plain": [
       "((1786701,), (198522,))"
      ]
     },
     "execution_count": 6,
     "metadata": {},
     "output_type": "execute_result"
    }
   ],
   "source": [
    "# get data from file:\n",
    "with open('data/texts/anna.txt') as data:\n",
    "    text = data.read()\n",
    "\n",
    "# get unique characters in text \n",
    "vocab = np.array(sorted(set(text)))\n",
    "\n",
    "# split training and validation sets. Convert text to NumPy arrays\n",
    "split_idx = int(np.floor(0.1 * len(text)))\n",
    "trainset = np.array(list(text[:-split_idx]))\n",
    "validset = np.array(list(text[-split_idx:]))\n",
    "trainset.shape, validset.shape"
   ]
  },
  {
   "cell_type": "code",
   "execution_count": 7,
   "metadata": {},
   "outputs": [
    {
     "data": {
      "text/plain": [
       "Network(\n",
       "  (lstm): LSTM(83, 390, num_layers=2, batch_first=True, dropout=0.5)\n",
       "  (fc): Linear(in_features=390, out_features=83, bias=True)\n",
       ")"
      ]
     },
     "execution_count": 7,
     "metadata": {},
     "output_type": "execute_result"
    }
   ],
   "source": [
    "n_hidden = 390\n",
    "n_layers = 2\n",
    "\n",
    "model = Network(vocab, n_hidden, n_layers)\n",
    "model"
   ]
  },
  {
   "cell_type": "code",
   "execution_count": 10,
   "metadata": {},
   "outputs": [
    {
     "name": "stdout",
     "output_type": "stream",
     "text": [
      "------- Epoch 0 ---------\n",
      "Training Loss: 146.75550657510757\n",
      "Valid Loss: 18.77520525455475\n",
      "------- Epoch 2 ---------\n",
      "Training Loss: 143.57203900814056\n",
      "Valid Loss: 18.782105326652527\n",
      "------- Epoch 4 ---------\n",
      "Training Loss: 142.20537877082825\n",
      "Valid Loss: 18.79310667514801\n",
      "------- Epoch 6 ---------\n",
      "Training Loss: 141.17436909675598\n",
      "Valid Loss: 18.854512333869934\n",
      "------- Epoch 8 ---------\n",
      "Training Loss: 140.2795495390892\n",
      "Valid Loss: 18.914209842681885\n"
     ]
    },
    {
     "data": {
      "image/png": "[encoded data removed]",
      "text/plain": [
       "<Figure size 432x288 with 1 Axes>"
      ]
     },
     "metadata": {
      "needs_background": "light"
     },
     "output_type": "display_data"
    }
   ],
   "source": [
    "batch_size = 128\n",
    "seq_len = 100\n",
    "epochs = 10\n",
    "lr = 0.001\n",
    "\n",
    "train(model, trainset, batch_size, seq_len, epochs, lr=lr, valid=validset)"
   ]
  },
  {
   "cell_type": "code",
   "execution_count": 11,
   "metadata": {},
   "outputs": [],
   "source": [
    "checkpoint = {\n",
    "    'vocab'   : model.vocab,\n",
    "    'n_hidden': model.n_hidden,\n",
    "    'n_layers': model.n_layers,\n",
    "    'state'   : model.state_dict()\n",
    "}\n",
    "\n",
    "filepath = 'saved/LSTM_390_nodes_25_epochs.net'\n",
    "\n",
    "with open(filepath, 'wb') as f:\n",
    "    torch.save(checkpoint, f)"
   ]
  },
  {
   "cell_type": "code",
   "execution_count": 34,
   "metadata": {},
   "outputs": [
    {
     "data": {
      "text/plain": [
       "<All keys matched successfully>"
      ]
     },
     "execution_count": 34,
     "metadata": {},
     "output_type": "execute_result"
    }
   ],
   "source": [
    "with open('saved/LSTM_390_nodes_25_epochs.net', 'rb') as f:\n",
    "    checkpoint = torch.load(f)\n",
    "\n",
    "model = Network(vocab, checkpoint['n_hidden'], checkpoint['n_layers'])\n",
    "model.load_state_dict(checkpoint['state'])"
   ]
  },
  {
   "cell_type": "code",
   "execution_count": 35,
   "metadata": {},
   "outputs": [],
   "source": [
    "text = model.sample(1000, top_k=5)"
   ]
  },
  {
   "cell_type": "code",
   "execution_count": 36,
   "metadata": {},
   "outputs": [
    {
     "name": "stdout",
     "output_type": "stream",
     "text": [
      "And Victoria sang he saw that it was a long\n",
      "while, to her face, and he concealed her. She had not supposed that she was told\n",
      "the same thing had been\n",
      "so firmly\n",
      "and husbands from his comrades. Tenthed the stream at the moment in the point of plangers, was the same step over the steps.\n",
      "\n",
      "\"Well, I'm a machine, but I am to stand to\n",
      "see you and that her son have no more.\"\n",
      "\n",
      "\"Oh, no!\" she added, letting in her strong arms.\n",
      "\n",
      "\"The second moment's saying how to do it, but it's to be so much!\" said the\n",
      "driving and deliberate scarcely, shrugging officers, with a smile alone all the\n",
      "same thing that had set to the man in his face with a smile to Varenka. Alexey\n",
      "Alexandrovitch had tried not to get them. And the family was so strength.\n",
      "\n",
      "\n",
      "\n",
      "Chapter 29\n",
      "\n",
      "\n",
      "When he was tried to disten on, a spiritualist which is, they were aware, and the stretch of color, and her mother's secretary had never been dreaming. She was a conversation that still more, while\n",
      "a short-conversation or his\n",
      "face, and the dog that had been determining the \n"
     ]
    }
   ],
   "source": [
    "print(text)"
   ]
  },
  {
   "cell_type": "code",
   "execution_count": null,
   "metadata": {},
   "outputs": [],
   "source": []
  }
 ],
 "metadata": {
  "environment": {
   "name": "pytorch-gpu.1-4.m49",
   "type": "gcloud",
   "uri": "gcr.io/deeplearning-platform-release/pytorch-gpu.1-4:m49"
  },
  "kernelspec": {
   "display_name": "Python 3",
   "language": "python",
   "name": "python3"
  },
  "language_info": {
   "codemirror_mode": {
    "name": "ipython",
    "version": 3
   },
   "file_extension": ".py",
   "mimetype": "text/x-python",
   "name": "python",
   "nbconvert_exporter": "python",
   "pygments_lexer": "ipython3",
   "version": "3.7.6"
  }
 },
 "nbformat": 4,
 "nbformat_minor": 4
}
