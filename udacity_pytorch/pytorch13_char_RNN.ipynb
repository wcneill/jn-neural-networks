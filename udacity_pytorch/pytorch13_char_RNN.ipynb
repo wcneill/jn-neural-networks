{
 "cells": [
  {
   "cell_type": "code",
   "execution_count": 1,
   "metadata": {},
   "outputs": [],
   "source": [
    "import torch\n",
    "from torch import nn, optim\n",
    "from torch.nn import functional as F\n",
    "import numpy as np\n",
    "\n",
    "from sklearn.preprocessing import OneHotEncoder\n",
    "\n",
    "import matplotlib.pyplot as plt\n",
    "import seaborn as sns"
   ]
  },
  {
   "cell_type": "code",
   "execution_count": 2,
   "metadata": {},
   "outputs": [
    {
     "data": {
      "text/plain": [
       "(1985223,\n",
       " 'Chapter 1\\n\\n\\nHappy families are all alike; every unhappy family is unhappy in its own\\nway.')"
      ]
     },
     "execution_count": 2,
     "metadata": {},
     "output_type": "execute_result"
    }
   ],
   "source": [
    "device = 'cuda' if torch.cuda.is_available() else 'cpu'\n",
    "\n",
    "with open('data/texts/anna.txt') as data:\n",
    "    text = data.read()\n",
    "    \n",
    "len(text), text[:89]"
   ]
  },
  {
   "cell_type": "code",
   "execution_count": 3,
   "metadata": {},
   "outputs": [],
   "source": [
    "# Get vocabulary (list of unique characters in the text)\n",
    "vocab = tuple(set(text))"
   ]
  },
  {
   "cell_type": "code",
   "execution_count": 4,
   "metadata": {},
   "outputs": [],
   "source": [
    "def train_val_split(arr, p=0.1):\n",
    "    \"\"\"split data according to desired percentate p\"\"\"\n",
    "    split_idx = int(len(arr) * p)\n",
    "    train_data = arr[:-split_idx]\n",
    "    valid_data = arr[-split_idx:]\n",
    "    return [ch for ch in train_data], [ch for ch in valid_data]"
   ]
  },
  {
   "cell_type": "code",
   "execution_count": 5,
   "metadata": {},
   "outputs": [
    {
     "data": {
      "text/plain": [
       "((1786701,), (198522,))"
      ]
     },
     "execution_count": 5,
     "metadata": {},
     "output_type": "execute_result"
    }
   ],
   "source": [
    "t_x, v_x = train_val_split(text)\n",
    "t_x, v_x = np.array(t_x), np.array(v_x)\n",
    "\n",
    "t_x.shape, v_x.shape"
   ]
  },
  {
   "cell_type": "code",
   "execution_count": 6,
   "metadata": {},
   "outputs": [],
   "source": [
    "def create_targets(sequence):\n",
    "    \"\"\"\n",
    "    get sequence of shape (n_samples, n_features) and return\n",
    "    target sequence of same shape with wrap-around where required.\n",
    "    \"\"\"\n",
    "    wrap = sequence[0]\n",
    "    return np.append(sequence[1:], wrap).reshape(sequence.shape)\n",
    "\n",
    "def get_batches(arr, batch_size, seq_length, encoder=None):\n",
    "    \"\"\"\n",
    "    Divide 1 feature sequence data into batches. Each batch will contain\n",
    "    `n=batch_size` sequences, each with length `m=seq_len`.\n",
    "    \"\"\"\n",
    " \n",
    "    n_chars   = batch_size * seq_length          # -> Total # chars per batch\n",
    "    n_batches = int(np.floor(len(arr)/ n_chars)) # -> Total batches possible \n",
    "    n_keep    = n_chars * n_batches              # -> Cutoff for even batches\n",
    "    \n",
    "    inputs  = arr[:n_keep]\n",
    "    targets = create_targets(arr)[:n_keep]\n",
    "    \n",
    "    if encoder is not None:\n",
    "        n_cats = len(encoder.categories_[0])\n",
    "        inputs = encoder.transform(inputs.reshape(-1, 1))\n",
    "        inputs = inputs.reshape(batch_size, -1, n_cats)\n",
    "    else:\n",
    "        inputs = inputs.reshape(batch_size, -1)\n",
    "        \n",
    "    targets = targets.reshape(batch_size, -1)\n",
    "    \n",
    "    for b in range(0, inputs.shape[1], seq_length): \n",
    "        x = torch.tensor(inputs[:, b: b + seq_length], dtype=torch.float32)\n",
    "        y = torch.tensor(targets[:, b: b + seq_length], dtype=torch.float32)   \n",
    "        yield x, y"
   ]
  },
  {
   "cell_type": "code",
   "execution_count": 7,
   "metadata": {},
   "outputs": [],
   "source": [
    "class charNN(nn.Module):\n",
    "    def __init__(self, vocab, hidden_size, n_layers, dropout=0.5):\n",
    "        super().__init__()\n",
    "        \n",
    "        self.vocab = vocab\n",
    "        self.int2char = dict(enumerate(vocab))\n",
    "        self.char2int = {ch : i for i, ch in self.int2char.items()}\n",
    "        self.vocab_length = len(vocab)\n",
    "        \n",
    "        oh_keys = np.array([i for i, _ in enumerate(vocab)])\n",
    "        self.encoder = OneHotEncoder(sparse=False).fit(oh_keys.reshape(-1, 1))\n",
    "        \n",
    "        self.hidden_size = hidden_size\n",
    "        self.n_layers = n_layers\n",
    "        \n",
    "        self.lstm = nn.LSTM(self.vocab_length, hidden_size, n_layers, batch_first=True)\n",
    "        self.fc   = nn.Linear(hidden_size, self.vocab_length)\n",
    "        self.do   = nn.Dropout(p=dropout)\n",
    "        \n",
    "    def forward(self, x, hidden=None):\n",
    "        x, hidden = self.lstm(x, hidden)     # -> (n_batches, seq_len, hidden_size)\n",
    "        x = self.do(x)\n",
    "        x = x.reshape(-1, self.hidden_size)  # -> (n_batches * seq_len, hidden_size)\n",
    "        x = self.fc(x)                       # -> (n_batches * seq_len, vocab_length)\n",
    "        return x, hidden    \n",
    "    \n",
    "    def train_model(self, train_data, batch_size, \n",
    "                    seq_len, epochs, lr=0.001, clip=5, valid=None):\n",
    "           \n",
    "        device = 'cuda' if torch.cuda.is_available() else 'cpu'\n",
    "        self = self.to(device)\n",
    "        \n",
    "        opt = optim.Adam(model.parameters(), lr=lr)\n",
    "        criterion = nn.CrossEntropyLoss()\n",
    "        \n",
    "        valid_loss = []\n",
    "        train_loss = []\n",
    "        \n",
    "        train_data = np.array([self.char2int[c] for c in train_data])\n",
    "        if valid is not None:\n",
    "            valid = np.array([self.char2int[c] for c in valid])\n",
    "        \n",
    "        for e in range(epochs):\n",
    "            \n",
    "            running_t_loss = 0\n",
    "            running_v_loss = 0\n",
    "            \n",
    "            if valid is not None:\n",
    "                v_hs = None\n",
    "                self.eval()\n",
    "                with torch.no_grad():\n",
    "                    batches = get_batches(valid, batch_size, seq_len, encoder=self.encoder)\n",
    "                    for x, y in batches:\n",
    "                        x, y = x.to(device), y.to(device)\n",
    "                        out, v_hs = self(x, v_hs)\n",
    "                        loss = criterion(out, y.view(batch_size * seq_len).long())\n",
    "                        running_v_loss += loss.item()\n",
    "            \n",
    "            self.train()\n",
    "            hs = None\n",
    "            batches = get_batches(train_data, \n",
    "                                  batch_size, \n",
    "                                  seq_len, \n",
    "                                  encoder=self.encoder)\n",
    "            \n",
    "            for x, y in batches:\n",
    "                x, y = x.to(device), y.to(device)\n",
    "                opt.zero_grad()\n",
    "                out, hs = self(x, hs)\n",
    "                hs = tuple([h_n.data for h_n in hs])\n",
    "                loss = criterion(out, y.view(batch_size * seq_len).long())\n",
    "                loss.backward()\n",
    "                nn.utils.clip_grad_norm_(self.parameters(), clip)\n",
    "                opt.step()\n",
    "                running_t_loss += loss.item()\n",
    "            \n",
    "            train_loss.append(np.mean(running_t_loss))\n",
    "            valid_loss.append(np.mean(running_v_loss))\n",
    "            \n",
    "            if e % np.floor(epochs / 10) == 0:\n",
    "                print(f'------------ EPOCH {e} --------------')\n",
    "                print(f'Training Loss: {train_loss[-1]}')\n",
    "                print(f'Validation Loss: {valid_loss[-1]}')\n",
    "                try:\n",
    "                    if valid_loss[-1] < valid_loss[-2]:\n",
    "                        print('Validation Loss Decreased')\n",
    "                except IndexError:\n",
    "                    pass\n",
    "        \n",
    "        plt.plot(train_loss, label='Training Loss')\n",
    "        plt.plot(valid_loss, label='Validation Loss')\n",
    "        plt.xlabel('Epochs')\n",
    "        plt.legend()\n",
    "        plt.show()\n",
    "        \n",
    "    def predict(self, char, top_k=None, hs=None):\n",
    "        device = 'cuda' if torch.cuda.is_available() else 'cpu'\n",
    "        self.to(device)\n",
    "        self.eval()\n",
    "        \n",
    "        with torch.no_grad():\n",
    "            int_val = torch.tensor(self.char2int[char])\n",
    "            x = int_val.reshape(-1, 1)\n",
    "            x = self.encoder.transform(x)\n",
    "            x = x.reshape(1, 1, -1)\n",
    "            x = torch.tensor(x, dtype=torch.float32)\n",
    "            x = x.to(device)\n",
    "\n",
    "            hs = None\n",
    "            out, hs = self(x, hs)\n",
    "\n",
    "            ps   = F.softmax(out, dim=1).squeeze()\n",
    "            \n",
    "            if top_k is None:\n",
    "                choices = np.arange(len(self.vocab))\n",
    "            else:\n",
    "                ps, choices = ps.topk(top_k)\n",
    "                choices = choices.cpu().numpy()\n",
    "            \n",
    "            ps = ps.cpu().numpy()\n",
    "            \n",
    "            char = np.random.choice(choices, p=ps/ps.sum())\n",
    "            char = self.int2char[char]\n",
    "\n",
    "        return char, hs\n",
    "    \n",
    "    def sample(self, length, top_k=None, primer='The '):\n",
    "        hs = None\n",
    "        for px in primer:\n",
    "            out, hs = self.predict(px, hs=hs)\n",
    "        \n",
    "        chars = [out]\n",
    "        for ix in range(length):\n",
    "            char, out = self.predict(chars[-1], top_k=top_k, hs=hs)\n",
    "            chars.append(char)\n",
    "        \n",
    "        return ''.join(chars)"
   ]
  },
  {
   "cell_type": "code",
   "execution_count": 8,
   "metadata": {},
   "outputs": [
    {
     "data": {
      "text/plain": [
       "charNN(\n",
       "  (lstm): LSTM(83, 512, num_layers=2, batch_first=True)\n",
       "  (fc): Linear(in_features=512, out_features=83, bias=True)\n",
       "  (do): Dropout(p=0.5, inplace=False)\n",
       ")"
      ]
     },
     "execution_count": 8,
     "metadata": {},
     "output_type": "execute_result"
    }
   ],
   "source": [
    "n_hidden = 512\n",
    "n_layers = 2\n",
    "\n",
    "model = charNN(vocab, n_hidden, n_layers, dropout=0.5)\n",
    "model = model.to(device)\n",
    "model"
   ]
  },
  {
   "cell_type": "code",
   "execution_count": 9,
   "metadata": {},
   "outputs": [
    {
     "name": "stdout",
     "output_type": "stream",
     "text": [
      "------------ EPOCH 0 --------------\n",
      "Training Loss: 435.69934463500977\n",
      "Validation Loss: 66.33110427856445\n",
      "------------ EPOCH 2 --------------\n",
      "Training Loss: 283.626224398613\n",
      "Validation Loss: 32.96463966369629\n",
      "Validation Loss Decreased\n",
      "------------ EPOCH 4 --------------\n",
      "Training Loss: 231.47786736488342\n",
      "Validation Loss: 26.186464071273804\n",
      "Validation Loss Decreased\n",
      "------------ EPOCH 6 --------------\n",
      "Training Loss: 205.61590600013733\n",
      "Validation Loss: 23.233765721321106\n",
      "Validation Loss Decreased\n",
      "------------ EPOCH 8 --------------\n",
      "Training Loss: 189.98828446865082\n",
      "Validation Loss: 21.804009437561035\n",
      "Validation Loss Decreased\n",
      "------------ EPOCH 10 --------------\n",
      "Training Loss: 179.2343817949295\n",
      "Validation Loss: 20.88176739215851\n",
      "Validation Loss Decreased\n",
      "------------ EPOCH 12 --------------\n",
      "Training Loss: 171.33704829216003\n",
      "Validation Loss: 20.278086304664612\n",
      "Validation Loss Decreased\n",
      "------------ EPOCH 14 --------------\n",
      "Training Loss: 165.02582573890686\n",
      "Validation Loss: 19.9288489818573\n",
      "Validation Loss Decreased\n",
      "------------ EPOCH 16 --------------\n",
      "Training Loss: 159.88179755210876\n",
      "Validation Loss: 19.751261115074158\n",
      "Validation Loss Decreased\n",
      "------------ EPOCH 18 --------------\n",
      "Training Loss: 155.4719613790512\n",
      "Validation Loss: 19.72817623615265\n"
     ]
    },
    {
     "data": {
      "image/png": "[encoded data removed]",
      "text/plain": [
       "<Figure size 432x288 with 1 Axes>"
      ]
     },
     "metadata": {
      "needs_background": "light"
     },
     "output_type": "display_data"
    }
   ],
   "source": [
    "model.train_model(t_x, 128, 100, 20, valid=v_x)"
   ]
  },
  {
   "cell_type": "code",
   "execution_count": 10,
   "metadata": {},
   "outputs": [],
   "source": [
    "saved_file = 'LSTM_20_epoch.net'\n",
    "\n",
    "checkpoint = {\n",
    "    'vocab'     : model.vocab,\n",
    "    'n_hidden'  : model.hidden_size,\n",
    "    'n_layers'  : model.n_layers,\n",
    "    'state_dict': model.state_dict()\n",
    "}\n",
    "\n",
    "with open(f'saved/{saved_file}', 'wb') as f:\n",
    "    torch.save(checkpoint, f)"
   ]
  },
  {
   "cell_type": "code",
   "execution_count": 11,
   "metadata": {},
   "outputs": [],
   "source": [
    "with open('saved/LSTM_20_epoch.net', 'rb') as f:\n",
    "    checkpoint = torch.load(f)\n",
    "   \n",
    "\n",
    "model = charNN(vocab, checkpoint['n_hidden'], checkpoint['n_layers'])\n",
    "model.load_state_dict(checkpoint['state_dict'])"
   ]
  },
  {
   "cell_type": "code",
   "execution_count": 13,
   "metadata": {},
   "outputs": [
    {
     "data": {
      "text/plain": [
       "'0nedy.\" s thak hedes akes alalakethe hes arireditarestedy. thededes alaly, s.\\nhedirone hotedes thononetredede strededily hete st hedatrine thed meditedy,\"\\ns\\nmakedanithethites helinetethakedededine athy medes,\" s\\nmediry akn\\'melare alonithelalanedaninededares me harelate mounes\\nthofonofus an\\'s arele s\\naris,\\nstres telonorinedire hanakedede histelis. halariroury.\"s\\nthoredy?\"s. s theditranaretraly honit medes,\" atharedes melinelithithinalourethy atales\\nmorely tedinedestathathy,_ hine alest tredithy thitathorethathy\\nhonededet mes. anes thed thet hathithanares, meditares s, haky? s\\nalalinaritharede s...\\nhone at hithet arined s.. atethetares,_,\"\\nheded tres,.\" s hed thedanedes s\\nhedet taredy tanedanounithithy s alat hathethithe s aledithedalis. his\\nteteliry alakededethonitaliliris,\\nmedis,\\nthedy s my..\" aredy. s,\" aned thy s,\"\\nstritathotatrakithes atrithedy,\" mares tedaly, hedede he athy hotathestris,_ melat het s mes thede matrethak athetanonede s tritredy\\nmelaredelofelotak s athofoneded takelit'"
      ]
     },
     "execution_count": 13,
     "metadata": {},
     "output_type": "execute_result"
    }
   ],
   "source": [
    "model.sample(1000, top_k=5, primer='The bird sang us a song')"
   ]
  }
 ],
 "metadata": {
  "environment": {
   "name": "pytorch-gpu.1-4.m49",
   "type": "gcloud",
   "uri": "gcr.io/deeplearning-platform-release/pytorch-gpu.1-4:m49"
  },
  "kernelspec": {
   "display_name": "Python 3",
   "language": "python",
   "name": "python3"
  },
  "language_info": {
   "codemirror_mode": {
    "name": "ipython",
    "version": 3
   },
   "file_extension": ".py",
   "mimetype": "text/x-python",
   "name": "python",
   "nbconvert_exporter": "python",
   "pygments_lexer": "ipython3",
   "version": "3.7.6"
  }
 },
 "nbformat": 4,
 "nbformat_minor": 4
}
