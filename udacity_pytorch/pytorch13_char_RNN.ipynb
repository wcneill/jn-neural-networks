{
 "cells": [
  {
   "cell_type": "code",
   "execution_count": 17,
   "metadata": {},
   "outputs": [],
   "source": [
    "import torch\n",
    "from torch import nn, optim\n",
    "import numpy as np\n",
    "\n",
    "from sklearn.preprocessing import OneHotEncoder\n",
    "\n",
    "import matplotlib.pyplot as plt\n",
    "import seaborn as sns"
   ]
  },
  {
   "cell_type": "code",
   "execution_count": 18,
   "metadata": {},
   "outputs": [
    {
     "data": {
      "text/plain": [
       "(1985223,\n",
       " 'Chapter 1\\n\\n\\nHappy families are all alike; every unhappy family is unhappy in its own\\nway.')"
      ]
     },
     "execution_count": 18,
     "metadata": {},
     "output_type": "execute_result"
    }
   ],
   "source": [
    "device = 'cuda' if torch.cuda.is_available() else 'cpu'\n",
    "\n",
    "with open('data/texts/anna.txt') as data:\n",
    "    text = data.read()\n",
    "    \n",
    "len(text), text[:89]"
   ]
  },
  {
   "cell_type": "code",
   "execution_count": 19,
   "metadata": {},
   "outputs": [],
   "source": [
    "vocab    = tuple(set(text))\n",
    "int2char = dict(enumerate(vocab))\n",
    "char2int = {char: i for i, char in int2char.items()}"
   ]
  },
  {
   "cell_type": "code",
   "execution_count": 20,
   "metadata": {},
   "outputs": [],
   "source": [
    "# Integer encode text, and fit one-hot encoder for later use.\n",
    "int_values = np.array([char2int[i] for i in text]).reshape(-1, 1)\n",
    "encoder = OneHotEncoder(sparse=False).fit(int_values)"
   ]
  },
  {
   "cell_type": "code",
   "execution_count": 21,
   "metadata": {},
   "outputs": [],
   "source": [
    "def train_val_split(arr, p=0.1):\n",
    "    \"\"\"split data according to desired percentate p\"\"\"\n",
    "    split_idx = int(len(arr) * p)\n",
    "    train_data = arr[:-split_idx]\n",
    "    valid_data = arr[-split_idx:]\n",
    "    return train_data, valid_data\n",
    "\n",
    "def create_targets(sequence):\n",
    "    \"\"\"\n",
    "    get sequence of shape (n_samples, n_features) and return\n",
    "    target sequence of same shape with wrap-around where required.\n",
    "    \"\"\"\n",
    "    wrap = sequence[0]\n",
    "    return np.append(sequence[1:], wrap).reshape(sequence.shape)\n",
    "    \n",
    "t_x, v_x = train_val_split(int_values)\n",
    "\n",
    "def get_batches(arr, batch_size, seq_length, encoder=None):\n",
    "    \"\"\"\n",
    "    Divide 1 feature sequence data into batches. Each batch will contain\n",
    "    `n=batch_size` sequences, each with length `m=seq_len`.\n",
    "    \"\"\"\n",
    " \n",
    "    n_chars   = batch_size * seq_length          # -> Total # chars per batch\n",
    "    n_batches = int(np.floor(len(arr)/ n_chars)) # -> Total batches possible \n",
    "    n_keep    = n_chars * n_batches              # -> Cutoff for even batches\n",
    "    \n",
    "    inputs  = arr[:n_keep]\n",
    "    targets = create_targets(arr)[:n_keep]\n",
    "    \n",
    "    if encoder is not None:\n",
    "        n_cats = len(encoder.categories_[0])\n",
    "        inputs = encoder.transform(inputs.reshape(-1, 1))\n",
    "        inputs = inputs.reshape(batch_size, -1, n_cats)\n",
    "    else:\n",
    "        inputs = inputs.reshape(batch_size, -1)\n",
    "        \n",
    "    targets = targets.reshape(batch_size, -1)\n",
    "    \n",
    "    for b in range(0, inputs.shape[1], seq_length): \n",
    "        x = torch.tensor(inputs[:, b: b + seq_length], dtype=torch.float32)\n",
    "        y = torch.tensor(targets[:, b: b + seq_length], dtype=torch.float32)   \n",
    "        yield x, y"
   ]
  },
  {
   "cell_type": "code",
   "execution_count": 22,
   "metadata": {},
   "outputs": [
    {
     "name": "stdout",
     "output_type": "stream",
     "text": [
      "x: tensor([[0., 1.],\n",
      "        [4., 5.]])\n",
      "y: tensor([[1., 2.],\n",
      "        [5., 6.]])\n",
      "\n",
      "x: tensor([[2., 3.],\n",
      "        [6., 7.]])\n",
      "y: tensor([[3., 4.],\n",
      "        [7., 8.]])\n",
      "\n"
     ]
    }
   ],
   "source": [
    "# Test get_batches method on simple sequence\n",
    "a = np.arange(10)\n",
    "test_encoder = OneHotEncoder(sparse=False).fit(a.reshape(-1, 1))\n",
    "batches = get_batches(a, 2, 2)\n",
    "# batches = get_batches(a, 2, 2, encoder=test_encoder)\n",
    "\n",
    "for x, y in batches:\n",
    "    print(f'x: {x}')\n",
    "    print(f'y: {y}\\n')"
   ]
  },
  {
   "cell_type": "code",
   "execution_count": 38,
   "metadata": {},
   "outputs": [],
   "source": [
    "class charNN(nn.Module):\n",
    "    def __init__(self, vocab, hidden_size, n_layers, dropout=0.5):\n",
    "        super().__init__()\n",
    "\n",
    "        self.vocab_length = len(vocab)\n",
    "        self.hidden_size = hidden_size\n",
    "        self.lstm = nn.LSTM(self.vocab_length, hidden_size, n_layers, batch_first=True)\n",
    "        self.fc   = nn.Linear(hidden_size, self.vocab_length)\n",
    "        self.do   = nn.Dropout(p=dropout)\n",
    "        \n",
    "        self.device = 'cuda' if torch.cuda.is_available() else 'cpu'\n",
    "        self.to(self.device)\n",
    "        \n",
    "    def forward(self, x, hidden=None):\n",
    "        x, hidden = self.lstm(x, hidden)     # -> (n_batches, seq_len, hidden_size)\n",
    "        x = self.do(x)\n",
    "        x = x.reshape(-1, self.hidden_size)  # -> (n_batches * seq_len, hidden_size)\n",
    "        x = self.fc(x)                       # -> (n_batches * seq_len, vocab_length)\n",
    "        return x, hidden    \n",
    "    \n",
    "    def train_model(self, train_data, batch_size, \n",
    "                    seq_len, epochs, lr=0.01, clip=5, valid=None, encoder=None):\n",
    "        \n",
    "        opt = optim.Adam(model.parameters(), lr=lr)\n",
    "        criterion = nn.CrossEntropyLoss()\n",
    "        \n",
    "        valid_loss = []\n",
    "        train_loss = []\n",
    "        \n",
    "        for e in range(epochs):\n",
    "            self.train()\n",
    "            hs = None\n",
    "            batches = get_batches(t_x, \n",
    "                                  batch_size, \n",
    "                                  seq_len, \n",
    "                                  encoder=encoder)\n",
    "            running_t_loss = 0\n",
    "            running_v_loss = 0\n",
    "            for x, y in batches:\n",
    "                x, y = x.to(self.device), y.to(self.device)\n",
    "                opt.zero_grad()\n",
    "                out, hs = self(x, hs)\n",
    "                hs = tuple([h_n.data for h_n in hs])\n",
    "                loss = criterion(out, y.view(batch_size * seq_len).long())\n",
    "                loss.backward()\n",
    "                nn.utils.clip_grad_norm_(self.parameters(), clip)\n",
    "                opt.step()\n",
    "                running_t_loss += loss.item()\n",
    "                \n",
    "            if valid is not None:\n",
    "                v_hs = None\n",
    "                self.eval()\n",
    "                with torch.no_grad():\n",
    "                    batches = get_batches(valid, batch_size, seq_len, encoder=encoder)\n",
    "                    for x, y in batches:\n",
    "                        out, v_hs = self(x, v_hs)\n",
    "                        loss = criterion(out, y.view(batch_size * seq_len).long())\n",
    "                        running_v_loss += loss.item()\n",
    "            \n",
    "            train_loss.append(np.mean(running_t_loss))\n",
    "            valid_loss.append(np.mean(running_v_loss))\n",
    "        \n",
    "        plt.plot(train_loss, label='Training Loss')\n",
    "        plt.plot(valid_loss, label='Validation Loss')\n",
    "        plt.xlabel('Epochs')\n",
    "        plt.legend()\n",
    "        plot.show()"
   ]
  },
  {
   "cell_type": "code",
   "execution_count": 39,
   "metadata": {},
   "outputs": [
    {
     "data": {
      "text/plain": [
       "charNN(\n",
       "  (lstm): LSTM(83, 512, num_layers=2, batch_first=True)\n",
       "  (fc): Linear(in_features=512, out_features=83, bias=True)\n",
       "  (do): Dropout(p=0.5, inplace=False)\n",
       ")"
      ]
     },
     "execution_count": 39,
     "metadata": {},
     "output_type": "execute_result"
    }
   ],
   "source": [
    "n_hidden = 512\n",
    "n_layers = 2\n",
    "\n",
    "model = charNN(vocab, n_hidden, n_layers)\n",
    "model = model.to(device)\n",
    "model"
   ]
  },
  {
   "cell_type": "code",
   "execution_count": 40,
   "metadata": {},
   "outputs": [
    {
     "ename": "KeyboardInterrupt",
     "evalue": "",
     "output_type": "error",
     "traceback": [
      "\u001b[1;31m---------------------------------------------------------------------------\u001b[0m",
      "\u001b[1;31mKeyboardInterrupt\u001b[0m                         Traceback (most recent call last)",
      "\u001b[1;32m<ipython-input-40-8a44ce3f590e>\u001b[0m in \u001b[0;36m<module>\u001b[1;34m\u001b[0m\n\u001b[1;32m----> 1\u001b[1;33m \u001b[0mmodel\u001b[0m\u001b[1;33m.\u001b[0m\u001b[0mtrain_model\u001b[0m\u001b[1;33m(\u001b[0m\u001b[0mt_x\u001b[0m\u001b[1;33m,\u001b[0m \u001b[1;36m128\u001b[0m\u001b[1;33m,\u001b[0m \u001b[1;36m100\u001b[0m\u001b[1;33m,\u001b[0m \u001b[1;36m1\u001b[0m\u001b[1;33m,\u001b[0m \u001b[0mencoder\u001b[0m\u001b[1;33m=\u001b[0m\u001b[0mencoder\u001b[0m\u001b[1;33m)\u001b[0m\u001b[1;33m\u001b[0m\u001b[1;33m\u001b[0m\u001b[0m\n\u001b[0m",
      "\u001b[1;32m<ipython-input-38-0df15ac7125c>\u001b[0m in \u001b[0;36mtrain_model\u001b[1;34m(self, train_data, batch_size, seq_len, epochs, lr, clip, valid, encoder)\u001b[0m\n\u001b[0;32m     40\u001b[0m                 \u001b[0mhs\u001b[0m \u001b[1;33m=\u001b[0m \u001b[0mtuple\u001b[0m\u001b[1;33m(\u001b[0m\u001b[1;33m[\u001b[0m\u001b[0mh_n\u001b[0m\u001b[1;33m.\u001b[0m\u001b[0mdata\u001b[0m \u001b[1;32mfor\u001b[0m \u001b[0mh_n\u001b[0m \u001b[1;32min\u001b[0m \u001b[0mhs\u001b[0m\u001b[1;33m]\u001b[0m\u001b[1;33m)\u001b[0m\u001b[1;33m\u001b[0m\u001b[1;33m\u001b[0m\u001b[0m\n\u001b[0;32m     41\u001b[0m                 \u001b[0mloss\u001b[0m \u001b[1;33m=\u001b[0m \u001b[0mcriterion\u001b[0m\u001b[1;33m(\u001b[0m\u001b[0mout\u001b[0m\u001b[1;33m,\u001b[0m \u001b[0my\u001b[0m\u001b[1;33m.\u001b[0m\u001b[0mview\u001b[0m\u001b[1;33m(\u001b[0m\u001b[0mbatch_size\u001b[0m \u001b[1;33m*\u001b[0m \u001b[0mseq_len\u001b[0m\u001b[1;33m)\u001b[0m\u001b[1;33m.\u001b[0m\u001b[0mlong\u001b[0m\u001b[1;33m(\u001b[0m\u001b[1;33m)\u001b[0m\u001b[1;33m)\u001b[0m\u001b[1;33m\u001b[0m\u001b[1;33m\u001b[0m\u001b[0m\n\u001b[1;32m---> 42\u001b[1;33m                 \u001b[0mloss\u001b[0m\u001b[1;33m.\u001b[0m\u001b[0mbackward\u001b[0m\u001b[1;33m(\u001b[0m\u001b[1;33m)\u001b[0m\u001b[1;33m\u001b[0m\u001b[1;33m\u001b[0m\u001b[0m\n\u001b[0m\u001b[0;32m     43\u001b[0m                 \u001b[0mnn\u001b[0m\u001b[1;33m.\u001b[0m\u001b[0mutils\u001b[0m\u001b[1;33m.\u001b[0m\u001b[0mclip_grad_norm_\u001b[0m\u001b[1;33m(\u001b[0m\u001b[0mself\u001b[0m\u001b[1;33m.\u001b[0m\u001b[0mparameters\u001b[0m\u001b[1;33m(\u001b[0m\u001b[1;33m)\u001b[0m\u001b[1;33m,\u001b[0m \u001b[0mclip\u001b[0m\u001b[1;33m)\u001b[0m\u001b[1;33m\u001b[0m\u001b[1;33m\u001b[0m\u001b[0m\n\u001b[0;32m     44\u001b[0m                 \u001b[0mopt\u001b[0m\u001b[1;33m.\u001b[0m\u001b[0mstep\u001b[0m\u001b[1;33m(\u001b[0m\u001b[1;33m)\u001b[0m\u001b[1;33m\u001b[0m\u001b[1;33m\u001b[0m\u001b[0m\n",
      "\u001b[1;32mc:\\users\\wesle\\appdata\\local\\programs\\python\\python38\\lib\\site-packages\\torch\\tensor.py\u001b[0m in \u001b[0;36mbackward\u001b[1;34m(self, gradient, retain_graph, create_graph)\u001b[0m\n\u001b[0;32m    196\u001b[0m                 \u001b[0mproducts\u001b[0m\u001b[1;33m.\u001b[0m \u001b[0mDefaults\u001b[0m \u001b[0mto\u001b[0m\u001b[0;31m \u001b[0m\u001b[0;31m`\u001b[0m\u001b[0;31m`\u001b[0m\u001b[1;32mFalse\u001b[0m\u001b[0;31m`\u001b[0m\u001b[0;31m`\u001b[0m\u001b[1;33m.\u001b[0m\u001b[1;33m\u001b[0m\u001b[1;33m\u001b[0m\u001b[0m\n\u001b[0;32m    197\u001b[0m         \"\"\"\n\u001b[1;32m--> 198\u001b[1;33m         \u001b[0mtorch\u001b[0m\u001b[1;33m.\u001b[0m\u001b[0mautograd\u001b[0m\u001b[1;33m.\u001b[0m\u001b[0mbackward\u001b[0m\u001b[1;33m(\u001b[0m\u001b[0mself\u001b[0m\u001b[1;33m,\u001b[0m \u001b[0mgradient\u001b[0m\u001b[1;33m,\u001b[0m \u001b[0mretain_graph\u001b[0m\u001b[1;33m,\u001b[0m \u001b[0mcreate_graph\u001b[0m\u001b[1;33m)\u001b[0m\u001b[1;33m\u001b[0m\u001b[1;33m\u001b[0m\u001b[0m\n\u001b[0m\u001b[0;32m    199\u001b[0m \u001b[1;33m\u001b[0m\u001b[0m\n\u001b[0;32m    200\u001b[0m     \u001b[1;32mdef\u001b[0m \u001b[0mregister_hook\u001b[0m\u001b[1;33m(\u001b[0m\u001b[0mself\u001b[0m\u001b[1;33m,\u001b[0m \u001b[0mhook\u001b[0m\u001b[1;33m)\u001b[0m\u001b[1;33m:\u001b[0m\u001b[1;33m\u001b[0m\u001b[1;33m\u001b[0m\u001b[0m\n",
      "\u001b[1;32mc:\\users\\wesle\\appdata\\local\\programs\\python\\python38\\lib\\site-packages\\torch\\autograd\\__init__.py\u001b[0m in \u001b[0;36mbackward\u001b[1;34m(tensors, grad_tensors, retain_graph, create_graph, grad_variables)\u001b[0m\n\u001b[0;32m     96\u001b[0m         \u001b[0mretain_graph\u001b[0m \u001b[1;33m=\u001b[0m \u001b[0mcreate_graph\u001b[0m\u001b[1;33m\u001b[0m\u001b[1;33m\u001b[0m\u001b[0m\n\u001b[0;32m     97\u001b[0m \u001b[1;33m\u001b[0m\u001b[0m\n\u001b[1;32m---> 98\u001b[1;33m     Variable._execution_engine.run_backward(\n\u001b[0m\u001b[0;32m     99\u001b[0m         \u001b[0mtensors\u001b[0m\u001b[1;33m,\u001b[0m \u001b[0mgrad_tensors\u001b[0m\u001b[1;33m,\u001b[0m \u001b[0mretain_graph\u001b[0m\u001b[1;33m,\u001b[0m \u001b[0mcreate_graph\u001b[0m\u001b[1;33m,\u001b[0m\u001b[1;33m\u001b[0m\u001b[1;33m\u001b[0m\u001b[0m\n\u001b[0;32m    100\u001b[0m         allow_unreachable=True)  # allow_unreachable flag\n",
      "\u001b[1;31mKeyboardInterrupt\u001b[0m: "
     ]
    }
   ],
   "source": [
    "model.train_model(t_x, 128, 100, 1, encoder=encoder)"
   ]
  },
  {
   "cell_type": "code",
   "execution_count": null,
   "metadata": {},
   "outputs": [],
   "source": []
  }
 ],
 "metadata": {
  "kernelspec": {
   "display_name": "Python 3",
   "language": "python",
   "name": "python3"
  },
  "language_info": {
   "codemirror_mode": {
    "name": "ipython",
    "version": 3
   },
   "file_extension": ".py",
   "mimetype": "text/x-python",
   "name": "python",
   "nbconvert_exporter": "python",
   "pygments_lexer": "ipython3",
   "version": "3.8.3"
  }
 },
 "nbformat": 4,
 "nbformat_minor": 4
}
