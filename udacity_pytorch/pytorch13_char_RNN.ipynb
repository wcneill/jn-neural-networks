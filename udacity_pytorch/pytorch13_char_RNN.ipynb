{
 "cells": [
  {
   "cell_type": "code",
   "execution_count": 1,
   "metadata": {},
   "outputs": [],
   "source": [
    "import torch\n",
    "from torch import nn, optim\n",
    "import numpy as np\n",
    "\n",
    "from sklearn.preprocessing import OneHotEncoder\n",
    "\n",
    "import matplotlib.pyplot as plt\n",
    "import seaborn as sns"
   ]
  },
  {
   "cell_type": "code",
   "execution_count": 2,
   "metadata": {},
   "outputs": [
    {
     "data": {
      "text/plain": [
       "(1985223,\n",
       " 'Chapter 1\\n\\n\\nHappy families are all alike; every unhappy family is unhappy in its own\\nway.')"
      ]
     },
     "execution_count": 2,
     "metadata": {},
     "output_type": "execute_result"
    }
   ],
   "source": [
    "device = 'cuda' if torch.cuda.is_available() else 'cpu'\n",
    "\n",
    "with open('data/texts/anna.txt') as data:\n",
    "    text = data.read()\n",
    "    \n",
    "len(text), text[:89]"
   ]
  },
  {
   "cell_type": "code",
   "execution_count": 3,
   "metadata": {},
   "outputs": [],
   "source": [
    "vocab    = tuple(set(text))\n",
    "int2char = dict(enumerate(vocab))\n",
    "char2int = {char: i for i, char in int2char.items()}"
   ]
  },
  {
   "cell_type": "code",
   "execution_count": 4,
   "metadata": {},
   "outputs": [],
   "source": [
    "# Integer encode text, and fit one-hot encoder for later use.\n",
    "int_values = np.array([char2int[i] for i in text]).reshape(-1, 1)\n",
    "encoder = OneHotEncoder(sparse=False).fit(int_values)"
   ]
  },
  {
   "cell_type": "code",
   "execution_count": 5,
   "metadata": {},
   "outputs": [],
   "source": [
    "def train_val_split(arr, p=0.1):\n",
    "    \"\"\"split data according to desired percentate p\"\"\"\n",
    "    split_idx = int(len(arr) * p)\n",
    "    train_data = arr[:-split_idx]\n",
    "    valid_data = arr[-split_idx:]\n",
    "    return train_data, valid_data\n",
    "\n",
    "def create_targets(sequence):\n",
    "    \"\"\"\n",
    "    get sequence of shape (n_samples, n_features) and return\n",
    "    target sequence of same shape with wrap-around where required.\n",
    "    \"\"\"\n",
    "    wrap = sequence[0]\n",
    "    return np.append(sequence[1:], wrap).reshape(sequence.shape)\n",
    "    \n",
    "t_x, v_x = train_val_split(int_values)\n",
    "\n",
    "def get_batches(arr, batch_size, seq_length, encoder=None):\n",
    "    \"\"\"\n",
    "    Divide 1 feature sequence data into batches. Each batch will contain\n",
    "    `n=batch_size` sequences, each with length `m=seq_len`.\n",
    "    \"\"\"\n",
    " \n",
    "    n_chars   = batch_size * seq_length          # -> Total # chars per batch\n",
    "    n_batches = int(np.floor(len(arr)/ n_chars)) # -> Total batches possible \n",
    "    n_keep    = n_chars * n_batches              # -> Cutoff for even batches\n",
    "    \n",
    "    inputs  = arr[:n_keep]\n",
    "    targets = create_targets(arr)[:n_keep]\n",
    "    \n",
    "    if encoder is not None:\n",
    "        n_cats = len(encoder.categories_[0])\n",
    "        inputs = encoder.transform(inputs.reshape(-1, 1))\n",
    "        inputs = inputs.reshape(batch_size, -1, n_cats)\n",
    "    else:\n",
    "        inputs = inputs.reshape(batch_size, -1)\n",
    "        \n",
    "    targets = targets.reshape(batch_size, -1)\n",
    "    \n",
    "    for b in range(0, inputs.shape[1], seq_length): \n",
    "        x = torch.tensor(inputs[:, b: b + seq_length], dtype=torch.float32)\n",
    "        y = torch.tensor(targets[:, b: b + seq_length], dtype=torch.float32)   \n",
    "        yield x, y"
   ]
  },
  {
   "cell_type": "code",
   "execution_count": 6,
   "metadata": {},
   "outputs": [
    {
     "name": "stdout",
     "output_type": "stream",
     "text": [
      "x: tensor([[0., 1.],\n",
      "        [4., 5.]])\n",
      "y: tensor([[1., 2.],\n",
      "        [5., 6.]])\n",
      "\n",
      "x: tensor([[2., 3.],\n",
      "        [6., 7.]])\n",
      "y: tensor([[3., 4.],\n",
      "        [7., 8.]])\n",
      "\n"
     ]
    }
   ],
   "source": [
    "# Test get_batches method on simple sequence\n",
    "a = np.arange(10)\n",
    "test_encoder = OneHotEncoder(sparse=False).fit(a.reshape(-1, 1))\n",
    "batches = get_batches(a, 2, 2)\n",
    "# batches = get_batches(a, 2, 2, encoder=test_encoder)\n",
    "\n",
    "for x, y in batches:\n",
    "    print(f'x: {x}')\n",
    "    print(f'y: {y}\\n')"
   ]
  },
  {
   "cell_type": "code",
   "execution_count": 12,
   "metadata": {},
   "outputs": [],
   "source": [
    "class charNN(nn.Module):\n",
    "    def __init__(self, vocab, hidden_size, n_layers, dropout=0.5):\n",
    "        super().__init__()\n",
    "\n",
    "        self.vocab_length = len(vocab)\n",
    "        self.hidden_size = hidden_size\n",
    "        self.n_layers = n_layers\n",
    "        \n",
    "        self.lstm = nn.LSTM(self.vocab_length, hidden_size, n_layers, batch_first=True)\n",
    "        self.fc   = nn.Linear(hidden_size, self.vocab_length)\n",
    "        self.do   = nn.Dropout(p=dropout)\n",
    "        \n",
    "    def forward(self, x, hidden=None):\n",
    "        x, hidden = self.lstm(x, hidden)     # -> (n_batches, seq_len, hidden_size)\n",
    "        x = self.do(x)\n",
    "        x = x.reshape(-1, self.hidden_size)  # -> (n_batches * seq_len, hidden_size)\n",
    "        x = self.fc(x)                       # -> (n_batches * seq_len, vocab_length)\n",
    "        return x, hidden    \n",
    "    \n",
    "    def train_model(self, train_data, batch_size, \n",
    "                    seq_len, epochs, lr=0.01, clip=5, valid=None, encoder=None):\n",
    "        \n",
    "        \n",
    "        device = 'cuda' if torch.cuda.is_available() else 'cpu'\n",
    "        self = self.to(device)\n",
    "        \n",
    "        opt = optim.Adam(model.parameters(), lr=lr)\n",
    "        criterion = nn.CrossEntropyLoss()\n",
    "        \n",
    "        valid_loss = []\n",
    "        train_loss = []\n",
    "        \n",
    "        for e in range(epochs):\n",
    "            \n",
    "            running_t_loss = 0\n",
    "            running_v_loss = 0\n",
    "            \n",
    "            if valid is not None:\n",
    "                v_hs = None\n",
    "                self.eval()\n",
    "                with torch.no_grad():\n",
    "                    batches = get_batches(valid, batch_size, seq_len, encoder=encoder)\n",
    "                    for x, y in batches:\n",
    "                        x, y = x.to(device), y.to(device)\n",
    "                        out, v_hs = self(x, v_hs)\n",
    "                        loss = criterion(out, y.view(batch_size * seq_len).long())\n",
    "                        running_v_loss += loss.item()\n",
    "            \n",
    "            self.train()\n",
    "            hs = None\n",
    "            batches = get_batches(t_x, \n",
    "                                  batch_size, \n",
    "                                  seq_len, \n",
    "                                  encoder=encoder)\n",
    "            \n",
    "            for x, y in batches:\n",
    "                x, y = x.to(device), y.to(device)\n",
    "                opt.zero_grad()\n",
    "                out, hs = self(x, hs)\n",
    "                hs = tuple([h_n.data for h_n in hs])\n",
    "                loss = criterion(out, y.view(batch_size * seq_len).long())\n",
    "                loss.backward()\n",
    "                nn.utils.clip_grad_norm_(self.parameters(), clip)\n",
    "                opt.step()\n",
    "                running_t_loss += loss.item()\n",
    "            \n",
    "            train_loss.append(np.mean(running_t_loss))\n",
    "            valid_loss.append(np.mean(running_v_loss))\n",
    "            \n",
    "            if e % np.floor(epochs / 10) == 0:\n",
    "                print(f'------------ EPOCH {e} --------------')\n",
    "                print(f'Training Loss: {train_loss[-1]}')\n",
    "                print(f'Validation Loss: {valid_loss[-1]}')\n",
    "        \n",
    "        plt.plot(train_loss, label='Training Loss')\n",
    "        plt.plot(valid_loss, label='Validation Loss')\n",
    "        plt.xlabel('Epochs')\n",
    "        plt.legend()\n",
    "        plt.show()"
   ]
  },
  {
   "cell_type": "code",
   "execution_count": 13,
   "metadata": {},
   "outputs": [
    {
     "data": {
      "text/plain": [
       "charNN(\n",
       "  (lstm): LSTM(83, 390, num_layers=2, batch_first=True)\n",
       "  (fc): Linear(in_features=390, out_features=83, bias=True)\n",
       "  (do): Dropout(p=0.5, inplace=False)\n",
       ")"
      ]
     },
     "execution_count": 13,
     "metadata": {},
     "output_type": "execute_result"
    }
   ],
   "source": [
    "n_hidden = 390\n",
    "n_layers = 2\n",
    "\n",
    "model = charNN(vocab, n_hidden, n_layers)\n",
    "model = model.to(device)\n",
    "model"
   ]
  },
  {
   "cell_type": "code",
   "execution_count": 14,
   "metadata": {},
   "outputs": [
    {
     "name": "stdout",
     "output_type": "stream",
     "text": [
      "------------ EPOCH 0 --------------\n",
      "Training Loss: 363.56448888778687\n",
      "Validation Loss: 66.17924308776855\n",
      "------------ EPOCH 3 --------------\n",
      "Training Loss: 183.05615603923798\n",
      "Validation Loss: 21.231509566307068\n",
      "------------ EPOCH 6 --------------\n",
      "Training Loss: 166.28894209861755\n",
      "Validation Loss: 19.685144662857056\n",
      "------------ EPOCH 9 --------------\n",
      "Training Loss: 159.1121221780777\n",
      "Validation Loss: 19.4821994304657\n",
      "------------ EPOCH 12 --------------\n",
      "Training Loss: 154.70925557613373\n",
      "Validation Loss: 19.329445481300354\n",
      "------------ EPOCH 15 --------------\n",
      "Training Loss: 151.78055369853973\n",
      "Validation Loss: 19.287872433662415\n",
      "------------ EPOCH 18 --------------\n",
      "Training Loss: 149.6036684513092\n",
      "Validation Loss: 19.291507363319397\n",
      "------------ EPOCH 21 --------------\n",
      "Training Loss: 147.65951371192932\n",
      "Validation Loss: 19.307010173797607\n",
      "------------ EPOCH 24 --------------\n",
      "Training Loss: 145.97004687786102\n",
      "Validation Loss: 19.501011729240417\n",
      "------------ EPOCH 27 --------------\n",
      "Training Loss: 144.76590073108673\n",
      "Validation Loss: 19.553764820098877\n"
     ]
    },
    {
     "data": {
      "image/png": "[encoded data removed]",
      "text/plain": [
       "<Figure size 432x288 with 1 Axes>"
      ]
     },
     "metadata": {
      "needs_background": "light"
     },
     "output_type": "display_data"
    }
   ],
   "source": [
    "model.train_model(t_x, 128, 100, 30, valid=v_x, encoder=encoder)"
   ]
  },
  {
   "cell_type": "code",
   "execution_count": 18,
   "metadata": {},
   "outputs": [
    {
     "ename": "AttributeError",
     "evalue": "'charNN' object has no attribute 'n_layers'",
     "output_type": "error",
     "traceback": [
      "\u001b[0;31m---------------------------------------------------------------------------\u001b[0m",
      "\u001b[0;31mAttributeError\u001b[0m                            Traceback (most recent call last)",
      "\u001b[0;32m<ipython-input-18-65a773be63a4>\u001b[0m in \u001b[0;36m<module>\u001b[0;34m\u001b[0m\n\u001b[1;32m      3\u001b[0m checkpoint = {\n\u001b[1;32m      4\u001b[0m     \u001b[0;34m'n_hidden'\u001b[0m\u001b[0;34m:\u001b[0m \u001b[0mmodel\u001b[0m\u001b[0;34m.\u001b[0m\u001b[0mhidden_size\u001b[0m\u001b[0;34m,\u001b[0m\u001b[0;34m\u001b[0m\u001b[0;34m\u001b[0m\u001b[0m\n\u001b[0;32m----> 5\u001b[0;31m     \u001b[0;34m'n_layers'\u001b[0m\u001b[0;34m:\u001b[0m \u001b[0mmodel\u001b[0m\u001b[0;34m.\u001b[0m\u001b[0mn_layers\u001b[0m\u001b[0;34m,\u001b[0m\u001b[0;34m\u001b[0m\u001b[0;34m\u001b[0m\u001b[0m\n\u001b[0m\u001b[1;32m      6\u001b[0m     \u001b[0;34m'state_dict'\u001b[0m\u001b[0;34m:\u001b[0m \u001b[0mmodel\u001b[0m\u001b[0;34m.\u001b[0m\u001b[0mstate_dict\u001b[0m\u001b[0;34m(\u001b[0m\u001b[0;34m)\u001b[0m\u001b[0;34m,\u001b[0m\u001b[0;34m\u001b[0m\u001b[0;34m\u001b[0m\u001b[0m\n\u001b[1;32m      7\u001b[0m     \u001b[0;34m'vocab'\u001b[0m\u001b[0;34m:\u001b[0m \u001b[0mvocab\u001b[0m\u001b[0;34m\u001b[0m\u001b[0;34m\u001b[0m\u001b[0m\n",
      "\u001b[0;32m/opt/conda/lib/python3.7/site-packages/torch/nn/modules/module.py\u001b[0m in \u001b[0;36m__getattr__\u001b[0;34m(self, name)\u001b[0m\n\u001b[1;32m    574\u001b[0m                 \u001b[0;32mreturn\u001b[0m \u001b[0mmodules\u001b[0m\u001b[0;34m[\u001b[0m\u001b[0mname\u001b[0m\u001b[0;34m]\u001b[0m\u001b[0;34m\u001b[0m\u001b[0;34m\u001b[0m\u001b[0m\n\u001b[1;32m    575\u001b[0m         raise AttributeError(\"'{}' object has no attribute '{}'\".format(\n\u001b[0;32m--> 576\u001b[0;31m             type(self).__name__, name))\n\u001b[0m\u001b[1;32m    577\u001b[0m \u001b[0;34m\u001b[0m\u001b[0m\n\u001b[1;32m    578\u001b[0m     \u001b[0;32mdef\u001b[0m \u001b[0m__setattr__\u001b[0m\u001b[0;34m(\u001b[0m\u001b[0mself\u001b[0m\u001b[0;34m,\u001b[0m \u001b[0mname\u001b[0m\u001b[0;34m,\u001b[0m \u001b[0mvalue\u001b[0m\u001b[0;34m)\u001b[0m\u001b[0;34m:\u001b[0m\u001b[0;34m\u001b[0m\u001b[0;34m\u001b[0m\u001b[0m\n",
      "\u001b[0;31mAttributeError\u001b[0m: 'charNN' object has no attribute 'n_layers'"
     ]
    }
   ],
   "source": [
    "saved_file = 'LSTM_30_epoch.net'\n",
    "\n",
    "checkpoint = {\n",
    "    'n_hidden': model.hidden_size,\n",
    "    'n_layers': model.n_layers,\n",
    "    'state_dict': model.state_dict(),\n",
    "    'vocab': vocab\n",
    "}\n",
    "\n",
    "with open(f'saved/{saved_file}', 'wb') as f:\n",
    "    torch.save(checkpoint, f)"
   ]
  },
  {
   "cell_type": "code",
   "execution_count": null,
   "metadata": {},
   "outputs": [],
   "source": []
  }
 ],
 "metadata": {
  "environment": {
   "name": "pytorch-gpu.1-4.m49",
   "type": "gcloud",
   "uri": "gcr.io/deeplearning-platform-release/pytorch-gpu.1-4:m49"
  },
  "kernelspec": {
   "display_name": "Python 3",
   "language": "python",
   "name": "python3"
  },
  "language_info": {
   "codemirror_mode": {
    "name": "ipython",
    "version": 3
   },
   "file_extension": ".py",
   "mimetype": "text/x-python",
   "name": "python",
   "nbconvert_exporter": "python",
   "pygments_lexer": "ipython3",
   "version": "3.7.6"
  }
 },
 "nbformat": 4,
 "nbformat_minor": 4
}
